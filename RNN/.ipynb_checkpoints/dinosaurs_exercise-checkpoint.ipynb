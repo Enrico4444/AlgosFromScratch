{
 "cells": [
  {
   "cell_type": "code",
   "execution_count": 1,
   "metadata": {},
   "outputs": [],
   "source": [
    "import numpy as np\n",
    "import math\n",
    "from matplotlib import pyplot as plt"
   ]
  },
  {
   "cell_type": "code",
   "execution_count": 2,
   "metadata": {},
   "outputs": [
    {
     "data": {
      "text/plain": [
       "((980, 20, 1), (980, 1))"
      ]
     },
     "execution_count": 2,
     "metadata": {},
     "output_type": "execute_result"
    }
   ],
   "source": [
    "X = np.load('trainX.npy')\n",
    "Y = np.load('trainY.npy')\n",
    "Y = Y.reshape(-1,1)\n",
    "X.shape, Y.shape # X: [m, T, nx], Y: [m,1]"
   ]
  },
  {
   "cell_type": "code",
   "execution_count": 3,
   "metadata": {},
   "outputs": [],
   "source": [
    "Xtrain = X[:700,:,:]\n",
    "Xtest = X[700:,:,:]\n",
    "Ytrain = Y[:700,:]\n",
    "Ytest = Y[700:,:]"
   ]
  },
  {
   "cell_type": "code",
   "execution_count": 19,
   "metadata": {},
   "outputs": [],
   "source": [
    "class RNN():\n",
    "    '''\n",
    "    X: m, T, nx\n",
    "    Y: m, ny\n",
    "    Waa: hidden_dim, hidden_dim\n",
    "    Wax: hidden_dim, nx\n",
    "    Wy: ny, hidden_dim\n",
    "    '''\n",
    "    \n",
    "    def __init__(self, hidden_dim, bptt_truncate = 5, gradient_max = 10, gradient_min = -10):\n",
    "        self.hidden_dim = hidden_dim\n",
    "        self.bptt_truncate = bptt_truncate\n",
    "        self.gradient_max = gradient_max\n",
    "        self.gradient_min = gradient_min  \n",
    "        self.layers = []\n",
    "        \n",
    "    def fit(self, X, Y):\n",
    "        self.X = X\n",
    "        self.Y = Y\n",
    "        self.m, self.T, self.nx = X.shape\n",
    "        self.ny = Y.shape[1]\n",
    "        self.init_network()\n",
    "        \n",
    "    def train(self, n_epochs, learning_rate, method = 'many-to-one', evaluate_every_n = 20):\n",
    "        \n",
    "        self.method = method\n",
    "        self.learning_rate = learning_rate\n",
    "        \n",
    "        for epoch in range(n_epochs):\n",
    "            self.reset_state()\n",
    "            self.forward_pass()\n",
    "            self.backward_pass()\n",
    "            self.SGD()\n",
    "            self.compute_loss()\n",
    "            if epoch % evaluate_every_n == 0:\n",
    "                print('Epoch {}, Loss {}'.format(epoch, self.loss))\n",
    "                \n",
    "    def predict(self, X_test):\n",
    "        m = X_test.shape[0]\n",
    "        T = X_test.shape[1]\n",
    "        \n",
    "        at = np.zeros((self.hidden_dim, m))\n",
    "        \n",
    "        y_hat = []\n",
    "        \n",
    "        for t in range(T):\n",
    "            if self.method == 'many-to-many' or t == self.T-1:\n",
    "                out_y = True\n",
    "            else:\n",
    "                out_y = False\n",
    "            xt = X_test[:, t, :]\n",
    "            a_prev = at\n",
    "            cell_output = self.RNN_cell(xt, a_prev, out_y)\n",
    "            y_hat.append(cell_output['yt'])\n",
    "            \n",
    "        if self.method == 'many-to-one':\n",
    "            y_hat = y_hat[-1]\n",
    "            \n",
    "        return y_hat\n",
    "        \n",
    "    def RNN_cell(self, xt, a_prev, out_y = False):\n",
    "        '''\n",
    "        xt: m, nx\n",
    "        a_prev: hidden_dim, m \n",
    "    \n",
    "        output:\n",
    "        - at: hidden_dim, m\n",
    "        - yt: m, ny or None\n",
    "        - za: hidden_dim, m\n",
    "        '''\n",
    "        za = np.matmul(self.Wax, xt.T) + np.matmul(self.Waa, a_prev) # hidden_dim, m\n",
    "        at = np.tanh(za) \n",
    "        if out_y:\n",
    "            zy = np.matmul(self.Wy, at).T\n",
    "            yt = zy\n",
    "        else:\n",
    "            zy = None\n",
    "            yt = None\n",
    "        return {'at':at, 'yt':yt, 'za':za}\n",
    "        \n",
    "    def forward_pass(self):\n",
    "        at = np.zeros((self.hidden_dim, self.m))\n",
    "\n",
    "        for t in range(self.T):\n",
    "            if self.method == 'many-to-many' or t == self.T-1:\n",
    "                out_y = True\n",
    "            else:\n",
    "                out_y = False\n",
    "            xt = self.X[:, t, :]\n",
    "            a_prev = at\n",
    "            cell_output = self.RNN_cell(xt, a_prev, out_y)\n",
    "            self.layers.append(cell_output)\n",
    "    \n",
    "    def backward_pass(self):\n",
    "\n",
    "        for t in reversed(range(self.T)):\n",
    "            ##### dWy\n",
    "            if self.layers[t]['yt'] is not None:\n",
    "                dL_dy = self.layers[-1]['yt'] - self.Y # m, ny\n",
    "                dL_dWy = np.matmul(self.layers[-1]['at'], dL_dy).T # ny, hidden_dim\n",
    "                self.dWy += dL_dWy\n",
    "\n",
    "            dy_da = self.Wy # ny, hidden_dim\n",
    "            dL_da = np.matmul(dL_dy, dy_da).T # hidden_dim, m\n",
    "\n",
    "            ##### dWaa, dWax\n",
    "            truncated_layers = list(range(t+1))[-self.bptt_truncate:]\n",
    "\n",
    "            dL_dWaa = np.zeros((self.hidden_dim, self.hidden_dim))\n",
    "            dL_dWax = np.zeros((self.hidden_dim, self.nx)) \n",
    "\n",
    "            for k in truncated_layers:\n",
    "                dat_dak = np.zeros((self.hidden_dim, self.m))\n",
    "                for j in range(k+1, t):\n",
    "                    daj_daprev = np.matmul(self.Waa, self.d_tanh(self.layers[j]['za'])) # hidden_dim, m\n",
    "                    dat_dak *= daj_daprev\n",
    "                dak_dWaa = self.layers[k-1]['at'] # hidden_dim, m\n",
    "                dak_dWax = self.X[:, k, :] # m, nx\n",
    "\n",
    "                dL_dak =  dL_da * dat_dak # hidden_dim, m\n",
    "\n",
    "                dL_dWaa_k = np.matmul(dL_dak , dak_dWaa.T) # hidden_dim, hidden_dim\n",
    "                dL_dWax_k = np.matmul(dL_dak , dak_dWax) # hidden_dim, nx\n",
    "\n",
    "                dL_dWaa += dL_dWaa_k\n",
    "                dL_dWax += dL_dWax_k\n",
    "\n",
    "            self.dWaa += dL_dWaa\n",
    "            self.dWax += dL_dWax\n",
    "\n",
    "        self.dWy,self.dWax,self.dWaa = self.gradient_clipping(self.gradient_max,self.gradient_min,\n",
    "                                                         self.dWy,self.dWax,self.dWaa)\n",
    "    \n",
    "    def reset_state(self):\n",
    "        self.layers = []\n",
    "        self.dWaa = np.zeros((self.Waa.shape))\n",
    "        self.dWax = np.zeros((self.Wax.shape))\n",
    "        self.dWy = np.zeros((self.Wy.shape))\n",
    "        \n",
    "    def gradient_clipping(self, gradient_max, gradient_min, *gradients):\n",
    "        '''gradients: list of ndarray'''\n",
    "        for i in range(len(gradients)):\n",
    "            gradients[i][np.where(gradients[i] > gradient_max)] = gradient_max\n",
    "            gradients[i][np.where(gradients[i] < gradient_min)] = gradient_min\n",
    "        return gradients\n",
    "    \n",
    "    def d_tanh(self, z):\n",
    "        return 1 - (np.tanh(z))**2\n",
    "    \n",
    "    def SGD(self):\n",
    "        self.Wy -= self.learning_rate * self.dWy\n",
    "        self.Waa -= self.learning_rate * self.dWaa\n",
    "        self.Wax -= self.learning_rate * self.dWax\n",
    "        \n",
    "    def loss_function(self, y_hat, y):\n",
    "        return np.mean((y_hat - y)**2)\n",
    "    \n",
    "    def compute_loss(self):\n",
    "        if self.method == 'many-to-one':\n",
    "            y_hat = self.layers[-1]['yt']\n",
    "        elif self.method == 'many-to-many':\n",
    "            y_hat = [self.layers[i]['yt'] for i in range(len(self.layers)) if self.layers[i]['yt'] is not None]\n",
    "        self.loss = self.loss_function(y_hat, self.Y)\n",
    "        \n",
    "    def init_network(self):\n",
    "        self.Waa = np.random.uniform(0, 1, (self.hidden_dim, self.hidden_dim)) \n",
    "        self.Wax = np.random.uniform(0, 1, (self.hidden_dim, self.nx))\n",
    "        self.Wy = np.random.uniform(0, 1, (self.ny, self.hidden_dim)) "
   ]
  },
  {
   "cell_type": "code",
   "execution_count": 20,
   "metadata": {},
   "outputs": [],
   "source": [
    "hidden_dim = 32\n",
    "n_epochs = 200\n",
    "learning_rate = 0.001\n",
    "bptt_truncate = 5"
   ]
  },
  {
   "cell_type": "code",
   "execution_count": 21,
   "metadata": {},
   "outputs": [
    {
     "name": "stdout",
     "output_type": "stream",
     "text": [
      "Epoch 0, Loss 19.347463153313402\n",
      "Epoch 20, Loss 7.505038894367722\n",
      "Epoch 40, Loss 1.1678288774529737\n",
      "Epoch 60, Loss 0.0008052185942444422\n",
      "Epoch 80, Loss 0.0007971218649917207\n",
      "Epoch 100, Loss 0.0007903798729758558\n",
      "Epoch 120, Loss 0.0007837879491876555\n",
      "Epoch 140, Loss 0.000777342476305554\n",
      "Epoch 160, Loss 0.0007710402006011693\n",
      "Epoch 180, Loss 0.0007648779407016344\n"
     ]
    }
   ],
   "source": [
    "rnn = RNN(hidden_dim = hidden_dim, bptt_truncate = 5, gradient_max = 10, gradient_min = -10)\n",
    "rnn.fit(Xtrain, Ytrain)\n",
    "rnn.train(n_epochs = n_epochs, learning_rate = learning_rate, method = 'many-to-one')\n",
    "y_hat = rnn.predict(Xtrain)\n",
    "y_hat_test = rnn.predict(Xtest)"
   ]
  },
  {
   "cell_type": "code",
   "execution_count": 22,
   "metadata": {},
   "outputs": [
    {
     "data": {
      "text/plain": [
       "[<matplotlib.lines.Line2D at 0x7f50ca57f5c0>]"
      ]
     },
     "execution_count": 22,
     "metadata": {},
     "output_type": "execute_result"
    },
    {
     "data": {
      "image/png": "[encoded data removed]",
      "text/plain": [
       "<Figure size 432x288 with 1 Axes>"
      ]
     },
     "metadata": {
      "needs_background": "light"
     },
     "output_type": "display_data"
    }
   ],
   "source": [
    "plt.plot(y_hat)\n",
    "plt.plot(Ytrain)"
   ]
  },
  {
   "cell_type": "code",
   "execution_count": 23,
   "metadata": {},
   "outputs": [
    {
     "data": {
      "text/plain": [
       "[<matplotlib.lines.Line2D at 0x7f50c7fa6f98>]"
      ]
     },
     "execution_count": 23,
     "metadata": {},
     "output_type": "execute_result"
    },
    {
     "data": {
      "image/png": "[encoded data removed]",
      "text/plain": [
       "<Figure size 432x288 with 1 Axes>"
      ]
     },
     "metadata": {
      "needs_background": "light"
     },
     "output_type": "display_data"
    }
   ],
   "source": [
    "plt.plot(y_hat_test)\n",
    "plt.plot(Ytest)"
   ]
  },
  {
   "cell_type": "code",
   "execution_count": 26,
   "metadata": {},
   "outputs": [
    {
     "data": {
      "text/plain": [
       "0.027807131561095603"
      ]
     },
     "execution_count": 26,
     "metadata": {},
     "output_type": "execute_result"
    }
   ],
   "source": [
    "test_rmse = np.sqrt(rnn.loss_function(y_hat_test, Ytest))\n",
    "test_rmse"
   ]
  }
 ],
 "metadata": {
  "kernelspec": {
   "display_name": "Enrico_env",
   "language": "python",
   "name": "enrico_env"
  },
  "language_info": {
   "codemirror_mode": {
    "name": "ipython",
    "version": 3
   },
   "file_extension": ".py",
   "mimetype": "text/x-python",
   "name": "python",
   "nbconvert_exporter": "python",
   "pygments_lexer": "ipython3",
   "version": "3.6.9"
  }
 },
 "nbformat": 4,
 "nbformat_minor": 2
}
