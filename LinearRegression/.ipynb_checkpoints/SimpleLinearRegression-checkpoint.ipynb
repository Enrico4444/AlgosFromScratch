{
 "cells": [
  {
   "cell_type": "code",
   "execution_count": 62,
   "metadata": {},
   "outputs": [],
   "source": [
    "# libraries to build algorithm\n",
    "import numpy as np\n",
    "# libraries to import data\n",
    "from sklearn.datasets import make_regression\n",
    "# libraries for plotting\n",
    "from matplotlib import pyplot as plt\n",
    "# libraries for in-built algorithm\n",
    "import statsmodels.api as sm"
   ]
  },
  {
   "cell_type": "markdown",
   "metadata": {},
   "source": [
    "## Helper functions"
   ]
  },
  {
   "cell_type": "code",
   "execution_count": 66,
   "metadata": {},
   "outputs": [],
   "source": [
    "# plotting functions\n",
    "def plot_data(X, y):\n",
    "    plt.scatter(X, y)\n",
    "    plt.show()\n",
    "    \n",
    "def plot_regression(X, y, y_pred):\n",
    "    plt.scatter(X, y)\n",
    "    plt.plot(X, y_pred)\n",
    "    plt.show()"
   ]
  },
  {
   "cell_type": "markdown",
   "metadata": {},
   "source": [
    "## Algorithm"
   ]
  },
  {
   "cell_type": "code",
   "execution_count": 56,
   "metadata": {},
   "outputs": [],
   "source": [
    "class SimpleLinearRegression():\n",
    "        \n",
    "    def fit(self, X, y):\n",
    "        '''input:\n",
    "        X: (n, 1)\n",
    "        y: (n, 1)'''\n",
    "        # fit a line of equation y = mx + c by minimizing the sum of squared residuals by setting to zero the partial derivatives of the loss wrt m and c\n",
    "        y = y.reshape(y.shape[0], 1)\n",
    "        X_bar = np.mean(X)\n",
    "        y_bar = np.mean(y)\n",
    "        x_resid = X - X_bar # shape = (n, 1)\n",
    "        y_resid = y - y_bar # shape = (n, 1)\n",
    "        Sxy = np.sum(x_resid * y_resid) # n*Cov(x,y), numerator of m\n",
    "        Sxx = np.sum(x_resid**2) # n*Var(x), denominator of m\n",
    "        m = Sxy / Sxx\n",
    "        c = y_bar - m * X_bar\n",
    "        self.coef = m\n",
    "        self.intercept = c\n",
    "        \n",
    "    def predict(self, X_pred):\n",
    "        '''input:\n",
    "        X: (k, 1)'''\n",
    "        return self.intercept + self.coef * X_pred # (k, 1)"
   ]
  },
  {
   "cell_type": "markdown",
   "metadata": {},
   "source": [
    "## Load data"
   ]
  },
  {
   "cell_type": "code",
   "execution_count": 28,
   "metadata": {},
   "outputs": [
    {
     "data": {
      "image/png": "[encoded data removed]",
      "text/plain": [
       "<Figure size 432x288 with 1 Axes>"
      ]
     },
     "metadata": {
      "needs_background": "light"
     },
     "output_type": "display_data"
    }
   ],
   "source": [
    "X, y = make_regression(n_samples=100, n_features=1, n_informative=1, n_targets=1, bias = 0, noise = 20, random_state=0)\n",
    "plot_data(X, y)"
   ]
  },
  {
   "cell_type": "code",
   "execution_count": 57,
   "metadata": {},
   "outputs": [
    {
     "data": {
      "text/plain": [
       "((100, 1), (100,))"
      ]
     },
     "execution_count": 57,
     "metadata": {},
     "output_type": "execute_result"
    }
   ],
   "source": [
    "X.shape, y.shape"
   ]
  },
  {
   "cell_type": "markdown",
   "metadata": {},
   "source": [
    "## Apply algorithm"
   ]
  },
  {
   "cell_type": "code",
   "execution_count": 58,
   "metadata": {},
   "outputs": [],
   "source": [
    "reg = SimpleLinearRegression()\n",
    "reg.fit(X, y)\n",
    "y_pred = reg.predict(X)"
   ]
  },
  {
   "cell_type": "code",
   "execution_count": 59,
   "metadata": {},
   "outputs": [
    {
     "data": {
      "image/png": "[encoded data removed]",
      "text/plain": [
       "<Figure size 432x288 with 1 Axes>"
      ]
     },
     "metadata": {
      "needs_background": "light"
     },
     "output_type": "display_data"
    }
   ],
   "source": [
    "plot_regression(X, y, y_pred)"
   ]
  },
  {
   "cell_type": "code",
   "execution_count": 60,
   "metadata": {},
   "outputs": [
    {
     "name": "stdout",
     "output_type": "stream",
     "text": [
      "m: 42.853355726915936, c: -1.6283636540614532\n"
     ]
    }
   ],
   "source": [
    "print('m: {}, c: {}'.format(reg.coef, reg.intercept))"
   ]
  },
  {
   "cell_type": "markdown",
   "metadata": {},
   "source": [
    "## Compare with in-built algorithm"
   ]
  },
  {
   "cell_type": "code",
   "execution_count": 65,
   "metadata": {},
   "outputs": [],
   "source": [
    "X_copy = X.copy()\n",
    "X_copy = sm.add_constant(X_copy)\n",
    "reg2 = sm.OLS(y, X_copy).fit()\n",
    "y_pred2 = reg2.predict(X_copy)"
   ]
  },
  {
   "cell_type": "code",
   "execution_count": 68,
   "metadata": {},
   "outputs": [
    {
     "data": {
      "image/png": "[encoded data removed]",
      "text/plain": [
       "<Figure size 432x288 with 1 Axes>"
      ]
     },
     "metadata": {
      "needs_background": "light"
     },
     "output_type": "display_data"
    }
   ],
   "source": [
    "plot_regression(X, y, y_pred2)"
   ]
  },
  {
   "cell_type": "code",
   "execution_count": 71,
   "metadata": {},
   "outputs": [
    {
     "name": "stdout",
     "output_type": "stream",
     "text": [
      "m: 42.85335572691593, c: -1.628363654061453\n"
     ]
    }
   ],
   "source": [
    "print('m: {}, c: {}'.format(reg2.params[1], reg2.params[0]))"
   ]
  }
 ],
 "metadata": {
  "kernelspec": {
   "display_name": "Enrico_env",
   "language": "python",
   "name": "enrico_env"
  },
  "language_info": {
   "codemirror_mode": {
    "name": "ipython",
    "version": 3
   },
   "file_extension": ".py",
   "mimetype": "text/x-python",
   "name": "python",
   "nbconvert_exporter": "python",
   "pygments_lexer": "ipython3",
   "version": "3.6.9"
  }
 },
 "nbformat": 4,
 "nbformat_minor": 2
}
