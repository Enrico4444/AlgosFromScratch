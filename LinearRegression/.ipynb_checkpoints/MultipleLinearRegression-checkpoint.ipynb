{
 "cells": [
  {
   "cell_type": "code",
   "execution_count": 1,
   "metadata": {},
   "outputs": [],
   "source": [
    "%load_ext autoreload\n",
    "%autoreload 2"
   ]
  },
  {
   "cell_type": "code",
   "execution_count": 2,
   "metadata": {},
   "outputs": [],
   "source": [
    "# libraries to build algorithm\n",
    "import sys\n",
    "import numpy as np\n",
    "from numpy import linalg as la\n",
    "# libraries to import data\n",
    "from sklearn.datasets import make_regression\n",
    "# libraries for plotting\n",
    "from matplotlib import pyplot as plt\n",
    "from mpl_toolkits.mplot3d import Axes3D\n",
    "# libraries for in-built algorithm\n",
    "import statsmodels.api as sm"
   ]
  },
  {
   "cell_type": "code",
   "execution_count": 3,
   "metadata": {},
   "outputs": [],
   "source": [
    "# custom classes and functions\n",
    "sys.path.append('..')\n",
    "from utils.gradient_descent import GradientDescent\n",
    "from utils.plotting import plot_regression_data, plot_regression\n",
    "from utils.metrics import mape"
   ]
  },
  {
   "cell_type": "markdown",
   "metadata": {},
   "source": [
    "## Algorithm"
   ]
  },
  {
   "cell_type": "code",
   "execution_count": 4,
   "metadata": {},
   "outputs": [],
   "source": [
    "class SumOfSquares():\n",
    "    '''inputs:\n",
    "    X: (n, m)\n",
    "    y: (n, 1)\n",
    "    w: (m, 1) - weights'''\n",
    "    def reg(self, w):\n",
    "        '''return weights for the regularization term\n",
    "        i.e. weights with intercept weight = 0 because we do not regularize intercept'''\n",
    "        w_reg = w.copy()\n",
    "        w_reg[0] = 0\n",
    "        return w_reg\n",
    "    \n",
    "    def compute_cost(self, X, w, y, reg_lambda):\n",
    "        y_hat = np.matmul(X, w)\n",
    "        reg_term = reg_lambda * self.reg(w)**2\n",
    "        self.cost = ( np.sum((y_hat - y)**2) + np.sum(reg_term) ) / (2*y.shape[0])\n",
    "    \n",
    "    def derivative(self, X, w, y, reg_lambda):\n",
    "        y_hat = np.matmul(X, w)\n",
    "        reg_term = reg_lambda * self.reg(w)\n",
    "        return ( np.sum((y_hat - y) * X, axis = 0).reshape(-1,1) + reg_term ) / y.shape[0]\n",
    "    \n",
    "class Projection():\n",
    "    ''' input:\n",
    "        X: (n, m)\n",
    "        v: (n, 1)\n",
    "        regularize: adds regularization term for regression\n",
    "        fit: returns the coordinates of the projection matrix multiplier by v\n",
    "        transform: multiply X by the returned value of fit to obtain the projection of v onto X'''\n",
    "    def regularize(self, Xt_X, reg_lambda):\n",
    "        '''adds regularization term, excluding intercept'''\n",
    "        reg_matrix = np.identity(Xt_X.shape[0])\n",
    "        reg_matrix[0,0] = 0 # removes intercept term from regularization\n",
    "        Xt_X = Xt_X + reg_lambda * reg_matrix\n",
    "        return Xt_X\n",
    "        \n",
    "    def fit(self, X, v, reg_lambda):\n",
    "        Xt_X = np.matmul(X.T, X) # shape = Xt: mxn, X: nxm, XtX: mxm\n",
    "        # add regularization\n",
    "        Xt_X = self.regularize(Xt_X, reg_lambda)\n",
    "        Xt_X_inv = la.inv(Xt_X) # shape = mxm\n",
    "        Xt_X_inv_Xt = np.matmul(Xt_X_inv, X.T) # shape = mxn\n",
    "        self.coord = np.matmul(Xt_X_inv_Xt, v) # shape = mx1\n",
    "    \n",
    "    def transform(self, X):\n",
    "        return np.matmul(X, self.coord)\n",
    "\n",
    "class MultipleLinearRegression():\n",
    "    \n",
    "    def __init__(self, learning_rate = 0.001, max_iter = 100, threshold = 1e-3, reg_lambda = 0, debug = False, seed = None):\n",
    "        self.learning_rate = learning_rate\n",
    "        self.max_iter = max_iter\n",
    "        self.threshold = threshold\n",
    "        self.debug = debug\n",
    "        self.reg_lambda = reg_lambda\n",
    "        self.seed = seed\n",
    "    \n",
    "    def add_intercept(self, X):\n",
    "        X_zero = np.ones((X.shape[0],1))\n",
    "        return np.concatenate((X_zero, X), axis=1) \n",
    "        \n",
    "    def fit_normal_equation(self, X, y):\n",
    "        '''input:\n",
    "        X: (n, m)\n",
    "        y: (n, 1)\n",
    "        where n > m\n",
    "        fits a line of best fit to data X with equation y = mX using the normal equation'''\n",
    "        # y_pred is the orthogonal prjection of y onto the column space of X\n",
    "        y = y.reshape(y.shape[0], 1)\n",
    "        # add intercept term\n",
    "        X = self.add_intercept(X)\n",
    "        # regression params are the coordinates of the projection of y onto X\n",
    "        projection = Projection()\n",
    "        projection.fit(X, y, self.reg_lambda)\n",
    "        self.coef = projection.coord\n",
    "    \n",
    "    def fit_gradient_descent(self, X, y, batch_size):\n",
    "        y = y.reshape(-1, 1)\n",
    "        # add intercept term\n",
    "        X = self.add_intercept(X)\n",
    "        # init weights\n",
    "        init_w = np.random.randn(X.shape[1],1)/ 2\n",
    "        # gradient descent with Sum of Squared Residuals as loss\n",
    "        ss = GradientDescent(X, y, init_w, loss = SumOfSquares(), batch_size = batch_size, reg_lambda = self.reg_lambda, seed = self.seed)\n",
    "        ss.gradient_descent(learning_rate = self.learning_rate, \n",
    "                            max_iter = self.max_iter, \n",
    "                            threshold = self.threshold, \n",
    "                            debug = self.debug)\n",
    "        self.coef = ss.w\n",
    "        \n",
    "    def fit(self, X, y, method = 'normal_equation', batch_size = None):\n",
    "        if method == 'normal_equation':\n",
    "            self.fit_normal_equation(X, y)\n",
    "        elif method == 'gradient_descent':\n",
    "            self.fit_gradient_descent(X, y, batch_size)\n",
    "             \n",
    "    def predict(self, X_test):\n",
    "        '''input:\n",
    "        X_test: (k, m)'''\n",
    "        # add intercept term\n",
    "        X_test = self.add_intercept(X_test)\n",
    "        return np.matmul(X_test, self.coef).reshape(X_test.shape[0],) # shape = (k,)\n",
    "        "
   ]
  },
  {
   "cell_type": "markdown",
   "metadata": {},
   "source": [
    "## Load data"
   ]
  },
  {
   "cell_type": "code",
   "execution_count": 5,
   "metadata": {},
   "outputs": [
    {
     "data": {
      "image/png": "[encoded data removed]",
      "text/plain": [
       "<Figure size 432x288 with 1 Axes>"
      ]
     },
     "metadata": {
      "needs_background": "light"
     },
     "output_type": "display_data"
    }
   ],
   "source": [
    "X, y = make_regression(n_samples=100, n_features=2, n_informative=1, n_targets=1, bias = 0, noise = 1)\n",
    "plot_regression_data(X, y)"
   ]
  },
  {
   "cell_type": "code",
   "execution_count": 6,
   "metadata": {},
   "outputs": [
    {
     "data": {
      "text/plain": [
       "((100, 2), (100,))"
      ]
     },
     "execution_count": 6,
     "metadata": {},
     "output_type": "execute_result"
    }
   ],
   "source": [
    "X.shape, y.shape"
   ]
  },
  {
   "cell_type": "markdown",
   "metadata": {},
   "source": [
    "## Apply algorithm"
   ]
  },
  {
   "cell_type": "code",
   "execution_count": 7,
   "metadata": {},
   "outputs": [],
   "source": [
    "# normal equation\n",
    "reg = MultipleLinearRegression()\n",
    "reg.fit(X, y)\n",
    "y_pred = reg.predict(X)"
   ]
  },
  {
   "cell_type": "code",
   "execution_count": 8,
   "metadata": {},
   "outputs": [
    {
     "name": "stdout",
     "output_type": "stream",
     "text": [
      "mape: 0.052100674095477535\n"
     ]
    }
   ],
   "source": [
    "print('mape: {}'.format(mape(y_pred, y)))"
   ]
  },
  {
   "cell_type": "code",
   "execution_count": 9,
   "metadata": {},
   "outputs": [
    {
     "name": "stdout",
     "output_type": "stream",
     "text": [
      "coefficients: [-0.09056975302086112, 0.025396317096385346, 92.1497624689174]\n"
     ]
    }
   ],
   "source": [
    "print('coefficients: {}'.format([i[0] for i in reg.coef]))"
   ]
  },
  {
   "cell_type": "code",
   "execution_count": 10,
   "metadata": {},
   "outputs": [
    {
     "data": {
      "text/plain": [
       "<Figure size 432x288 with 0 Axes>"
      ]
     },
     "metadata": {},
     "output_type": "display_data"
    }
   ],
   "source": [
    "plot_regression(X, y, y_pred)"
   ]
  },
  {
   "cell_type": "code",
   "execution_count": 11,
   "metadata": {},
   "outputs": [],
   "source": [
    "# gradient descent\n",
    "reg_gd = MultipleLinearRegression(learning_rate = 0.001, max_iter = 10000)\n",
    "reg_gd.fit(X, y, method = 'gradient_descent', batch_size = 21)\n",
    "y_pred_gd = reg_gd.predict(X)"
   ]
  },
  {
   "cell_type": "code",
   "execution_count": 12,
   "metadata": {},
   "outputs": [
    {
     "name": "stdout",
     "output_type": "stream",
     "text": [
      "mape: 0.0520773229706913\n"
     ]
    }
   ],
   "source": [
    "print('mape: {}'.format(mape(y_pred_gd, y)))"
   ]
  },
  {
   "cell_type": "code",
   "execution_count": 13,
   "metadata": {},
   "outputs": [
    {
     "name": "stdout",
     "output_type": "stream",
     "text": [
      "coefficients with gradient descent: [-0.0870065559367716, 0.013068728501683708, 92.15927515385373]\n"
     ]
    }
   ],
   "source": [
    "print('coefficients with gradient descent: {}'.format([i[0] for i in reg_gd.coef]))"
   ]
  },
  {
   "cell_type": "code",
   "execution_count": 14,
   "metadata": {},
   "outputs": [
    {
     "data": {
      "text/plain": [
       "<Figure size 432x288 with 0 Axes>"
      ]
     },
     "metadata": {},
     "output_type": "display_data"
    }
   ],
   "source": [
    "plot_regression(X, y, y_pred_gd)"
   ]
  },
  {
   "cell_type": "markdown",
   "metadata": {},
   "source": [
    "## Compare with in-built algorithm"
   ]
  },
  {
   "cell_type": "code",
   "execution_count": 15,
   "metadata": {},
   "outputs": [],
   "source": [
    "X_copy = X.copy()\n",
    "X_copy = sm.add_constant(X_copy)\n",
    "reg2 = sm.OLS(y, X_copy).fit()\n",
    "y_pred2 = reg2.predict(X_copy)"
   ]
  },
  {
   "cell_type": "code",
   "execution_count": 16,
   "metadata": {},
   "outputs": [
    {
     "name": "stdout",
     "output_type": "stream",
     "text": [
      "mape: 0.0521006740954774\n"
     ]
    }
   ],
   "source": [
    "print('mape: {}'.format(mape(y_pred2, y)))"
   ]
  },
  {
   "cell_type": "code",
   "execution_count": 17,
   "metadata": {},
   "outputs": [
    {
     "name": "stdout",
     "output_type": "stream",
     "text": [
      "coefficients: [-9.05697530e-02  2.53963171e-02  9.21497625e+01]\n"
     ]
    }
   ],
   "source": [
    "print('coefficients: {}'.format(reg2.params))"
   ]
  },
  {
   "cell_type": "code",
   "execution_count": 18,
   "metadata": {},
   "outputs": [
    {
     "data": {
      "text/plain": [
       "<Figure size 432x288 with 0 Axes>"
      ]
     },
     "metadata": {},
     "output_type": "display_data"
    }
   ],
   "source": [
    "plot_regression(X, y, y_pred2)"
   ]
  },
  {
   "cell_type": "markdown",
   "metadata": {},
   "source": [
    "## With L2 Regularization"
   ]
  },
  {
   "cell_type": "code",
   "execution_count": 19,
   "metadata": {},
   "outputs": [
    {
     "data": {
      "image/png": "[encoded data removed]",
      "text/plain": [
       "<Figure size 432x288 with 1 Axes>"
      ]
     },
     "metadata": {
      "needs_background": "light"
     },
     "output_type": "display_data"
    }
   ],
   "source": [
    "# noisy data\n",
    "X, y = make_regression(n_samples=100, n_features=2, n_informative=2, n_targets=1, bias = 0, noise = 70)\n",
    "plot_regression_data(X, y)"
   ]
  },
  {
   "cell_type": "code",
   "execution_count": 23,
   "metadata": {},
   "outputs": [],
   "source": [
    "# normal equation\n",
    "# regularized\n",
    "reg_reg = MultipleLinearRegression(reg_lambda = 1, seed = 0)\n",
    "reg_reg.fit(X, y, batch_size=1)\n",
    "y_pred_reg = reg_reg.predict(X)\n",
    "# non regularized\n",
    "reg = MultipleLinearRegression(reg_lambda = 0, seed = 0)\n",
    "reg.fit(X, y, batch_size=1)\n",
    "y_pred = reg.predict(X)"
   ]
  },
  {
   "cell_type": "code",
   "execution_count": 24,
   "metadata": {},
   "outputs": [
    {
     "name": "stdout",
     "output_type": "stream",
     "text": [
      "mape regularized: 1.6397909090345462\n",
      "mape: 1.6546376952009834\n"
     ]
    }
   ],
   "source": [
    "print('mape regularized: {}'.format(mape(y_pred_reg, y)))\n",
    "print('mape: {}'.format(mape(y_pred, y)))"
   ]
  },
  {
   "cell_type": "code",
   "execution_count": 25,
   "metadata": {},
   "outputs": [
    {
     "name": "stdout",
     "output_type": "stream",
     "text": [
      "coefficients regularized: [6.7992755585812175, 85.96135366035631, 6.497057123917219]\n",
      "coefficients: [6.768431579518347, 87.06711025262288, 6.519994249038241]\n"
     ]
    }
   ],
   "source": [
    "print('coefficients regularized: {}'.format([i[0] for i in reg_reg.coef]))\n",
    "print('coefficients: {}'.format([i[0] for i in reg.coef]))"
   ]
  },
  {
   "cell_type": "code",
   "execution_count": 27,
   "metadata": {},
   "outputs": [],
   "source": [
    "# gradient descent\n",
    "# regularized\n",
    "reg_gd_reg = MultipleLinearRegression(learning_rate = 0.001, max_iter = 10000, reg_lambda = 1, seed = 0)\n",
    "reg_gd_reg.fit(X, y, method = 'gradient_descent', batch_size = X.shape[0])\n",
    "y_pred_gd_reg = reg_gd_reg.predict(X)\n",
    "# non regularized\n",
    "reg_gd = MultipleLinearRegression(learning_rate = 0.001, max_iter = 10000, seed = 0)\n",
    "reg_gd.fit(X, y, method = 'gradient_descent', batch_size = X.shape[0])\n",
    "y_pred_gd = reg_gd.predict(X)"
   ]
  },
  {
   "cell_type": "code",
   "execution_count": 28,
   "metadata": {},
   "outputs": [
    {
     "name": "stdout",
     "output_type": "stream",
     "text": [
      "mape regularized: 1.6393595999657729\n",
      "mape: 1.6541377239997521\n"
     ]
    }
   ],
   "source": [
    "print('mape regularized: {}'.format(mape(y_pred_gd_reg, y)))\n",
    "print('mape: {}'.format(mape(y_pred_gd, y)))"
   ]
  },
  {
   "cell_type": "code",
   "execution_count": 29,
   "metadata": {},
   "outputs": [
    {
     "name": "stdout",
     "output_type": "stream",
     "text": [
      "coefficients with gradient descent regularized: [6.803729458107171, 85.92789242410733, 6.49951666003871]\n",
      "coefficients with gradient descent: [6.773290317538741, 87.0296535455748, 6.522733710680859]\n"
     ]
    }
   ],
   "source": [
    "print('coefficients with gradient descent regularized: {}'.format([i[0] for i in reg_gd_reg.coef]))\n",
    "print('coefficients with gradient descent: {}'.format([i[0] for i in reg_gd.coef]))"
   ]
  },
  {
   "cell_type": "markdown",
   "metadata": {},
   "source": [
    "## Compare with in-built algorithm"
   ]
  },
  {
   "cell_type": "code",
   "execution_count": 30,
   "metadata": {},
   "outputs": [],
   "source": [
    "X_copy = X.copy()\n",
    "X_copy = sm.add_constant(X_copy)\n",
    "reg2 = sm.OLS(y, X_copy).fit_regularized(alpha = 0.01)\n",
    "y_pred2 = reg2.predict(X_copy)"
   ]
  },
  {
   "cell_type": "code",
   "execution_count": 31,
   "metadata": {},
   "outputs": [
    {
     "name": "stdout",
     "output_type": "stream",
     "text": [
      "mape: 1.6544289673571928\n"
     ]
    }
   ],
   "source": [
    "print('mape: {}'.format(mape(y_pred2, y)))"
   ]
  },
  {
   "cell_type": "code",
   "execution_count": 32,
   "metadata": {},
   "outputs": [
    {
     "name": "stdout",
     "output_type": "stream",
     "text": [
      "coefficients: [ 6.75805439 87.05495262  6.51187318]\n"
     ]
    }
   ],
   "source": [
    "print('coefficients: {}'.format(reg2.params))"
   ]
  }
 ],
 "metadata": {
  "kernelspec": {
   "display_name": "Enrico_env",
   "language": "python",
   "name": "enrico_env"
  },
  "language_info": {
   "codemirror_mode": {
    "name": "ipython",
    "version": 3
   },
   "file_extension": ".py",
   "mimetype": "text/x-python",
   "name": "python",
   "nbconvert_exporter": "python",
   "pygments_lexer": "ipython3",
   "version": "3.6.9"
  }
 },
 "nbformat": 4,
 "nbformat_minor": 2
}
