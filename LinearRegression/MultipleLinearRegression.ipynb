{
 "cells": [
  {
   "cell_type": "code",
   "execution_count": 33,
   "metadata": {},
   "outputs": [
    {
     "name": "stdout",
     "output_type": "stream",
     "text": [
      "The autoreload extension is already loaded. To reload it, use:\n",
      "  %reload_ext autoreload\n"
     ]
    }
   ],
   "source": [
    "%load_ext autoreload\n",
    "%autoreload 2"
   ]
  },
  {
   "cell_type": "code",
   "execution_count": 34,
   "metadata": {},
   "outputs": [],
   "source": [
    "# libraries to build algorithm\n",
    "import sys\n",
    "import numpy as np\n",
    "from numpy import linalg as la\n",
    "# libraries to import data\n",
    "from sklearn.datasets import make_regression\n",
    "# libraries for plotting\n",
    "from matplotlib import pyplot as plt\n",
    "from mpl_toolkits.mplot3d import Axes3D\n",
    "# libraries for in-built algorithm\n",
    "import statsmodels.api as sm"
   ]
  },
  {
   "cell_type": "code",
   "execution_count": 35,
   "metadata": {},
   "outputs": [],
   "source": [
    "# custom classes and functions\n",
    "sys.path.append('..')\n",
    "from utils.gradient_descent import GradientDescent\n",
    "from utils.plotting import plot_regression_data, plot_regression\n",
    "from utils.metrics import mape"
   ]
  },
  {
   "cell_type": "markdown",
   "metadata": {},
   "source": [
    "## Algorithm"
   ]
  },
  {
   "cell_type": "code",
   "execution_count": 36,
   "metadata": {},
   "outputs": [],
   "source": [
    "class SumOfSquares():\n",
    "    '''inputs:\n",
    "    X: (n, m)\n",
    "    y: (n, 1)\n",
    "    w: (m, 1) - weights'''\n",
    "    def reg(self, w):\n",
    "        '''return weights for the regularization term\n",
    "        i.e. weights with intercept weight = 0 because we do not regularize intercept'''\n",
    "        w_reg = w.copy()\n",
    "        w_reg[0] = 0\n",
    "        return w_reg\n",
    "    \n",
    "    def compute_cost(self, X, w, y, reg_lambda):\n",
    "        y_hat = np.matmul(X, w)\n",
    "        reg_term = reg_lambda * self.reg(w)**2\n",
    "        self.cost = ( np.sum((y_hat - y)**2) + np.sum(reg_term) ) / (2*y.shape[0])\n",
    "    \n",
    "    def derivative(self, X, w, y, reg_lambda):\n",
    "        y_hat = np.matmul(X, w)\n",
    "        reg_term = reg_lambda * self.reg(w)\n",
    "        return ( np.sum((y_hat - y) * X, axis = 0).reshape(-1,1) + reg_term ) / y.shape[0]\n",
    "    \n",
    "class Projection():\n",
    "    ''' input:\n",
    "        X: (n, m)\n",
    "        v: (n, 1)\n",
    "        regularize: adds regularization term for regression\n",
    "        fit: returns the coordinates of the projection matrix multiplier by v\n",
    "        transform: multiply X by the returned value of fit to obtain the projection of v onto X'''\n",
    "    def regularize(self, Xt_X, reg_lambda):\n",
    "        '''adds regularization term, excluding intercept'''\n",
    "        reg_matrix = np.identity(Xt_X.shape[0])\n",
    "        reg_matrix[0,0] = 0 # removes intercept term from regularization\n",
    "        Xt_X = Xt_X + reg_lambda * reg_matrix\n",
    "        return Xt_X\n",
    "        \n",
    "    def fit(self, X, v, reg_lambda):\n",
    "        Xt_X = np.matmul(X.T, X) # shape = Xt: mxn, X: nxm, XtX: mxm\n",
    "        # add regularization\n",
    "        Xt_X = self.regularize(Xt_X, reg_lambda)\n",
    "        Xt_X_inv = la.inv(Xt_X) # shape = mxm\n",
    "        Xt_X_inv_Xt = np.matmul(Xt_X_inv, X.T) # shape = mxn\n",
    "        self.coord = np.matmul(Xt_X_inv_Xt, v) # shape = mx1\n",
    "    \n",
    "    def transform(self, X):\n",
    "        return np.matmul(X, self.coord)\n",
    "\n",
    "class MultipleLinearRegression():\n",
    "    \n",
    "    def __init__(self, learning_rate = 0.001, max_iter = 100, threshold = 1e-3, reg_lambda = 0, debug = False, seed = None):\n",
    "        self.learning_rate = learning_rate\n",
    "        self.max_iter = max_iter\n",
    "        self.threshold = threshold\n",
    "        self.debug = debug\n",
    "        self.reg_lambda = reg_lambda\n",
    "        self.seed = seed\n",
    "    \n",
    "    def add_intercept(self, X):\n",
    "        X_zero = np.ones((X.shape[0],1))\n",
    "        return np.concatenate((X_zero, X), axis=1) \n",
    "        \n",
    "    def fit_normal_equation(self, X, y):\n",
    "        '''input:\n",
    "        X: (n, m)\n",
    "        y: (n, 1)\n",
    "        where n > m\n",
    "        fits a line of best fit to data X with equation y = mX using the normal equation'''\n",
    "        # y_pred is the orthogonal prjection of y onto the column space of X\n",
    "        y = y.reshape(y.shape[0], 1)\n",
    "        # add intercept term\n",
    "        X = self.add_intercept(X)\n",
    "        # regression params are the coordinates of the projection of y onto X\n",
    "        projection = Projection()\n",
    "        projection.fit(X, y, self.reg_lambda)\n",
    "        self.coef = projection.coord\n",
    "    \n",
    "    def fit_gradient_descent(self, X, y, batch_size):\n",
    "        y = y.reshape(-1, 1)\n",
    "        # add intercept term\n",
    "        X = self.add_intercept(X)\n",
    "        # init weights\n",
    "        init_w = np.random.randn(X.shape[1],1)/ 2\n",
    "        # gradient descent with Sum of Squared Residuals as loss\n",
    "        ss = GradientDescent(X, y, init_w, loss = SumOfSquares(), batch_size = batch_size, reg_lambda = self.reg_lambda, seed = self.seed)\n",
    "        ss.gradient_descent(learning_rate = self.learning_rate, \n",
    "                            max_iter = self.max_iter, \n",
    "                            threshold = self.threshold, \n",
    "                            debug = self.debug)\n",
    "        self.coef = ss.w\n",
    "        \n",
    "    def fit(self, X, y, method = 'normal_equation', batch_size = None):\n",
    "        if method == 'normal_equation':\n",
    "            self.fit_normal_equation(X, y)\n",
    "        elif method == 'gradient_descent':\n",
    "            self.fit_gradient_descent(X, y, batch_size)\n",
    "             \n",
    "    def predict(self, X_test):\n",
    "        '''input:\n",
    "        X_test: (k, m)'''\n",
    "        # add intercept term\n",
    "        X_test = self.add_intercept(X_test)\n",
    "        return np.matmul(X_test, self.coef).reshape(X_test.shape[0],) # shape = (k,)\n",
    "        "
   ]
  },
  {
   "cell_type": "markdown",
   "metadata": {},
   "source": [
    "## Load data"
   ]
  },
  {
   "cell_type": "code",
   "execution_count": 37,
   "metadata": {},
   "outputs": [
    {
     "data": {
      "image/png": "[encoded data removed]",
      "text/plain": [
       "<Figure size 432x288 with 1 Axes>"
      ]
     },
     "metadata": {
      "needs_background": "light"
     },
     "output_type": "display_data"
    }
   ],
   "source": [
    "X, y = make_regression(n_samples=100, n_features=2, n_informative=1, n_targets=1, bias = 0, noise = 1)\n",
    "plot_regression_data(X, y)"
   ]
  },
  {
   "cell_type": "code",
   "execution_count": 38,
   "metadata": {},
   "outputs": [
    {
     "data": {
      "text/plain": [
       "((100, 2), (100,))"
      ]
     },
     "execution_count": 38,
     "metadata": {},
     "output_type": "execute_result"
    }
   ],
   "source": [
    "X.shape, y.shape"
   ]
  },
  {
   "cell_type": "markdown",
   "metadata": {},
   "source": [
    "## Apply algorithm"
   ]
  },
  {
   "cell_type": "code",
   "execution_count": 39,
   "metadata": {},
   "outputs": [],
   "source": [
    "# normal equation\n",
    "reg = MultipleLinearRegression()\n",
    "reg.fit(X, y)\n",
    "y_pred = reg.predict(X)"
   ]
  },
  {
   "cell_type": "code",
   "execution_count": 40,
   "metadata": {},
   "outputs": [
    {
     "name": "stdout",
     "output_type": "stream",
     "text": [
      "mape: 0.028417609092002093\n"
     ]
    }
   ],
   "source": [
    "print('mape: {}'.format(mape(y_pred, y)))"
   ]
  },
  {
   "cell_type": "code",
   "execution_count": 41,
   "metadata": {},
   "outputs": [
    {
     "name": "stdout",
     "output_type": "stream",
     "text": [
      "coefficients: [-0.11467496019048018, 0.03686008220812642, 78.87084280314181]\n"
     ]
    }
   ],
   "source": [
    "print('coefficients: {}'.format([i[0] for i in reg.coef]))"
   ]
  },
  {
   "cell_type": "code",
   "execution_count": 42,
   "metadata": {},
   "outputs": [
    {
     "data": {
      "text/plain": [
       "<Figure size 432x288 with 0 Axes>"
      ]
     },
     "metadata": {},
     "output_type": "display_data"
    }
   ],
   "source": [
    "plot_regression(X, y, y_pred)"
   ]
  },
  {
   "cell_type": "code",
   "execution_count": 43,
   "metadata": {},
   "outputs": [],
   "source": [
    "# gradient descent\n",
    "reg_gd = MultipleLinearRegression(learning_rate = 0.001, max_iter = 10000)\n",
    "reg_gd.fit(X, y, method = 'gradient_descent', batch_size = 21)\n",
    "y_pred_gd = reg_gd.predict(X)"
   ]
  },
  {
   "cell_type": "code",
   "execution_count": 44,
   "metadata": {},
   "outputs": [
    {
     "name": "stdout",
     "output_type": "stream",
     "text": [
      "mape: 0.028374712217129606\n"
     ]
    }
   ],
   "source": [
    "print('mape: {}'.format(mape(y_pred_gd, y)))"
   ]
  },
  {
   "cell_type": "code",
   "execution_count": 45,
   "metadata": {},
   "outputs": [
    {
     "name": "stdout",
     "output_type": "stream",
     "text": [
      "coefficients with gradient descent: [-0.10715265944363342, 0.03864298973409569, 78.87929436348314]\n"
     ]
    }
   ],
   "source": [
    "print('coefficients with gradient descent: {}'.format([i[0] for i in reg_gd.coef]))"
   ]
  },
  {
   "cell_type": "code",
   "execution_count": 46,
   "metadata": {},
   "outputs": [
    {
     "data": {
      "text/plain": [
       "<Figure size 432x288 with 0 Axes>"
      ]
     },
     "metadata": {},
     "output_type": "display_data"
    }
   ],
   "source": [
    "plot_regression(X, y, y_pred_gd)"
   ]
  },
  {
   "cell_type": "markdown",
   "metadata": {},
   "source": [
    "## Compare with in-built algorithm"
   ]
  },
  {
   "cell_type": "code",
   "execution_count": 47,
   "metadata": {},
   "outputs": [],
   "source": [
    "X_copy = X.copy()\n",
    "X_copy = sm.add_constant(X_copy)\n",
    "reg2 = sm.OLS(y, X_copy).fit()\n",
    "y_pred2 = reg2.predict(X_copy)"
   ]
  },
  {
   "cell_type": "code",
   "execution_count": 48,
   "metadata": {},
   "outputs": [
    {
     "name": "stdout",
     "output_type": "stream",
     "text": [
      "mape: 0.02841760909200211\n"
     ]
    }
   ],
   "source": [
    "print('mape: {}'.format(mape(y_pred2, y)))"
   ]
  },
  {
   "cell_type": "code",
   "execution_count": 49,
   "metadata": {},
   "outputs": [
    {
     "name": "stdout",
     "output_type": "stream",
     "text": [
      "coefficients: [-1.14674960e-01  3.68600822e-02  7.88708428e+01]\n"
     ]
    }
   ],
   "source": [
    "print('coefficients: {}'.format(reg2.params))"
   ]
  },
  {
   "cell_type": "code",
   "execution_count": 50,
   "metadata": {},
   "outputs": [
    {
     "data": {
      "text/plain": [
       "<Figure size 432x288 with 0 Axes>"
      ]
     },
     "metadata": {},
     "output_type": "display_data"
    }
   ],
   "source": [
    "plot_regression(X, y, y_pred2)"
   ]
  },
  {
   "cell_type": "markdown",
   "metadata": {},
   "source": [
    "## With L2 Regularization"
   ]
  },
  {
   "cell_type": "code",
   "execution_count": 51,
   "metadata": {},
   "outputs": [
    {
     "data": {
      "image/png": "[encoded data removed]",
      "text/plain": [
       "<Figure size 432x288 with 1 Axes>"
      ]
     },
     "metadata": {
      "needs_background": "light"
     },
     "output_type": "display_data"
    }
   ],
   "source": [
    "# noisy data\n",
    "X, y = make_regression(n_samples=100, n_features=2, n_informative=2, n_targets=1, bias = 0, noise = 70)\n",
    "plot_regression_data(X, y)"
   ]
  },
  {
   "cell_type": "code",
   "execution_count": 52,
   "metadata": {},
   "outputs": [],
   "source": [
    "# normal equation\n",
    "# regularized\n",
    "reg_reg = MultipleLinearRegression(reg_lambda = 1, seed = 0)\n",
    "reg_reg.fit(X, y, batch_size=1)\n",
    "y_pred_reg = reg_reg.predict(X)\n",
    "# non regularized\n",
    "reg = MultipleLinearRegression(reg_lambda = 0, seed = 0)\n",
    "reg.fit(X, y, batch_size=1)\n",
    "y_pred = reg.predict(X)"
   ]
  },
  {
   "cell_type": "code",
   "execution_count": 53,
   "metadata": {},
   "outputs": [
    {
     "name": "stdout",
     "output_type": "stream",
     "text": [
      "mape regularized: 1.7134536757729995\n",
      "mape: 1.7147844984916423\n"
     ]
    }
   ],
   "source": [
    "print('mape regularized: {}'.format(mape(y_pred_reg, y)))\n",
    "print('mape: {}'.format(mape(y_pred, y)))"
   ]
  },
  {
   "cell_type": "code",
   "execution_count": 54,
   "metadata": {},
   "outputs": [
    {
     "name": "stdout",
     "output_type": "stream",
     "text": [
      "coefficients regularized: [-14.700957697639472, 57.57511361066659, 18.114032841281478]\n",
      "coefficients: [-14.703447360036689, 58.16735788753084, 18.278218496258326]\n"
     ]
    }
   ],
   "source": [
    "print('coefficients regularized: {}'.format([i[0] for i in reg_reg.coef]))\n",
    "print('coefficients: {}'.format([i[0] for i in reg.coef]))"
   ]
  },
  {
   "cell_type": "code",
   "execution_count": 55,
   "metadata": {},
   "outputs": [],
   "source": [
    "# gradient descent\n",
    "# regularized\n",
    "reg_gd_reg = MultipleLinearRegression(learning_rate = 0.001, max_iter = 10000, reg_lambda = 1, seed = 0)\n",
    "reg_gd_reg.fit(X, y, method = 'gradient_descent', batch_size = X.shape[0])\n",
    "y_pred_gd_reg = reg_gd_reg.predict(X)\n",
    "# non regularized\n",
    "reg_gd = MultipleLinearRegression(learning_rate = 0.001, max_iter = 10000, seed = 0)\n",
    "reg_gd.fit(X, y, method = 'gradient_descent', batch_size = X.shape[0])\n",
    "y_pred_gd = reg_gd.predict(X)"
   ]
  },
  {
   "cell_type": "code",
   "execution_count": 56,
   "metadata": {},
   "outputs": [
    {
     "name": "stdout",
     "output_type": "stream",
     "text": [
      "mape regularized: 1.7133187662131755\n",
      "mape: 1.714649637682469\n"
     ]
    }
   ],
   "source": [
    "print('mape regularized: {}'.format(mape(y_pred_gd_reg, y)))\n",
    "print('mape: {}'.format(mape(y_pred_gd, y)))"
   ]
  },
  {
   "cell_type": "code",
   "execution_count": 57,
   "metadata": {},
   "outputs": [
    {
     "name": "stdout",
     "output_type": "stream",
     "text": [
      "coefficients with gradient descent regularized: [-14.699406525322031, 57.57265644078971, 18.11223427437817]\n",
      "coefficients with gradient descent: [-14.701897127769405, 58.16455693508118, 18.276353575875714]\n"
     ]
    }
   ],
   "source": [
    "print('coefficients with gradient descent regularized: {}'.format([i[0] for i in reg_gd_reg.coef]))\n",
    "print('coefficients with gradient descent: {}'.format([i[0] for i in reg_gd.coef]))"
   ]
  },
  {
   "cell_type": "markdown",
   "metadata": {},
   "source": [
    "## Compare with in-built algorithm"
   ]
  },
  {
   "cell_type": "code",
   "execution_count": 58,
   "metadata": {},
   "outputs": [],
   "source": [
    "X_copy = X.copy()\n",
    "X_copy = sm.add_constant(X_copy)\n",
    "reg2 = sm.OLS(y, X_copy).fit_regularized(alpha = 0.01)\n",
    "y_pred2 = reg2.predict(X_copy)"
   ]
  },
  {
   "cell_type": "code",
   "execution_count": 59,
   "metadata": {},
   "outputs": [
    {
     "name": "stdout",
     "output_type": "stream",
     "text": [
      "mape: 1.7137534316174916\n"
     ]
    }
   ],
   "source": [
    "print('mape: {}'.format(mape(y_pred2, y)))"
   ]
  },
  {
   "cell_type": "code",
   "execution_count": 60,
   "metadata": {},
   "outputs": [
    {
     "name": "stdout",
     "output_type": "stream",
     "text": [
      "coefficients: [-14.69166495  58.15800203  18.26605912]\n"
     ]
    }
   ],
   "source": [
    "print('coefficients: {}'.format(reg2.params))"
   ]
  }
 ],
 "metadata": {
  "kernelspec": {
   "display_name": "Enrico_env",
   "language": "python",
   "name": "enrico_env"
  },
  "language_info": {
   "codemirror_mode": {
    "name": "ipython",
    "version": 3
   },
   "file_extension": ".py",
   "mimetype": "text/x-python",
   "name": "python",
   "nbconvert_exporter": "python",
   "pygments_lexer": "ipython3",
   "version": "3.6.9"
  }
 },
 "nbformat": 4,
 "nbformat_minor": 2
}
