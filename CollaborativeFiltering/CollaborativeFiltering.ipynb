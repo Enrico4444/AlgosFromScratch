{
 "cells": [
  {
   "cell_type": "code",
   "execution_count": 249,
   "metadata": {},
   "outputs": [
    {
     "data": {
      "text/html": [
       "<style>.container { width:100% !important; }</style>"
      ],
      "text/plain": [
       "<IPython.core.display.HTML object>"
      ]
     },
     "metadata": {},
     "output_type": "display_data"
    }
   ],
   "source": [
    "from IPython.core.display import display, HTML\n",
    "display(HTML(\"<style>.container { width:100% !important; }</style>\"))"
   ]
  },
  {
   "cell_type": "code",
   "execution_count": 250,
   "metadata": {},
   "outputs": [
    {
     "name": "stdout",
     "output_type": "stream",
     "text": [
      "The autoreload extension is already loaded. To reload it, use:\n",
      "  %reload_ext autoreload\n"
     ]
    }
   ],
   "source": [
    "%load_ext autoreload\n",
    "%autoreload 2"
   ]
  },
  {
   "cell_type": "code",
   "execution_count": 251,
   "metadata": {},
   "outputs": [],
   "source": [
    "# libraries to build algorithm\n",
    "import sys\n",
    "import numpy as np\n",
    "from numpy import linalg as la\n",
    "# libraries for reading data\n",
    "import pandas as pd\n",
    "# libraries for plotting\n",
    "from matplotlib import pyplot as plt\n",
    "from mpl_toolkits.mplot3d import Axes3D\n",
    "# libraries for in-built algorithm\n",
    "from surprise import SVD, Dataset, Reader\n",
    "from surprise.model_selection import train_test_split"
   ]
  },
  {
   "cell_type": "code",
   "execution_count": 252,
   "metadata": {},
   "outputs": [],
   "source": [
    "# custom classes and functions\n",
    "sys.path.append('..')"
   ]
  },
  {
   "cell_type": "markdown",
   "metadata": {},
   "source": [
    "## Load data"
   ]
  },
  {
   "cell_type": "code",
   "execution_count": 253,
   "metadata": {},
   "outputs": [
    {
     "data": {
      "text/html": [
       "<div>\n",
       "<style scoped>\n",
       "    .dataframe tbody tr th:only-of-type {\n",
       "        vertical-align: middle;\n",
       "    }\n",
       "\n",
       "    .dataframe tbody tr th {\n",
       "        vertical-align: top;\n",
       "    }\n",
       "\n",
       "    .dataframe thead th {\n",
       "        text-align: right;\n",
       "    }\n",
       "</style>\n",
       "<table border=\"1\" class=\"dataframe\">\n",
       "  <thead>\n",
       "    <tr style=\"text-align: right;\">\n",
       "      <th></th>\n",
       "      <th>user_id</th>\n",
       "      <th>item_id</th>\n",
       "      <th>rating</th>\n",
       "    </tr>\n",
       "  </thead>\n",
       "  <tbody>\n",
       "    <tr>\n",
       "      <th>0</th>\n",
       "      <td>196</td>\n",
       "      <td>242</td>\n",
       "      <td>3</td>\n",
       "    </tr>\n",
       "    <tr>\n",
       "      <th>1</th>\n",
       "      <td>186</td>\n",
       "      <td>302</td>\n",
       "      <td>3</td>\n",
       "    </tr>\n",
       "    <tr>\n",
       "      <th>2</th>\n",
       "      <td>22</td>\n",
       "      <td>377</td>\n",
       "      <td>1</td>\n",
       "    </tr>\n",
       "    <tr>\n",
       "      <th>3</th>\n",
       "      <td>244</td>\n",
       "      <td>51</td>\n",
       "      <td>2</td>\n",
       "    </tr>\n",
       "    <tr>\n",
       "      <th>4</th>\n",
       "      <td>166</td>\n",
       "      <td>346</td>\n",
       "      <td>1</td>\n",
       "    </tr>\n",
       "  </tbody>\n",
       "</table>\n",
       "</div>"
      ],
      "text/plain": [
       "   user_id  item_id  rating\n",
       "0      196      242       3\n",
       "1      186      302       3\n",
       "2       22      377       1\n",
       "3      244       51       2\n",
       "4      166      346       1"
      ]
     },
     "execution_count": 253,
     "metadata": {},
     "output_type": "execute_result"
    }
   ],
   "source": [
    "df = pd.read_csv('ml-100k.csv')\n",
    "df = df.iloc[:, :-1]\n",
    "df.head()"
   ]
  },
  {
   "cell_type": "markdown",
   "metadata": {},
   "source": [
    "## Algorithm"
   ]
  },
  {
   "cell_type": "code",
   "execution_count": 254,
   "metadata": {},
   "outputs": [],
   "source": [
    "class MF_MSE():\n",
    "    '''inputs:\n",
    "    X: (n, m)\n",
    "    y: (n, 1)\n",
    "    w: (m, 1) - weights'''\n",
    "    def compute_error_matrix(self, y_hat, y, squared=True):\n",
    "        '''compute sum of squared error excluding indices where y has missing data'''\n",
    "        error_matrix = (y_hat - y)\n",
    "        if squared:\n",
    "            error_matrix = error_matrix**2\n",
    "        error_matrix[np.isnan(y)] = 0\n",
    "        return error_matrix\n",
    "    \n",
    "    def compute_cost(self, X, w, y, reg_lambda):\n",
    "        y_hat = np.matmul(X, w)\n",
    "        error_term = self.compute_error_matrix(y_hat, y, squared=True)\n",
    "        X_reg_term = reg_lambda * X**2\n",
    "        w_reg_term = reg_lambda * w**2      \n",
    "        self.cost = ( np.sum(error_term) + np.sum(X_reg_term) + np.sum(w_reg_term) ) / 2\n",
    "    \n",
    "    def derivative(self, X, w, y, reg_lambda):\n",
    "        y_hat = np.matmul(X, w)\n",
    "        error_term = self.compute_error_matrix(y_hat, y, squared=False)\n",
    "        X_reg_term = reg_lambda * X\n",
    "        w_reg_term = reg_lambda * w\n",
    "        dC_dX = np.matmul(error_term, w.T) + X_reg_term\n",
    "        dC_dw = np.matmul(X.T, error_term) + w_reg_term\n",
    "        return dC_dX, dC_dw\n",
    "    \n",
    "class MF_GradientDescent():\n",
    "    def __init__(self, X, y, w, loss, reg_lambda = 0, seed = None):\n",
    "        '''input:\n",
    "        X: (n, m)\n",
    "        y: (n, 1)\n",
    "        loss: instace of class with at least two methods: \"compute_loss\" and \"derivative\"\n",
    "        '''\n",
    "        np.random.seed(seed)\n",
    "        self.X = X\n",
    "        self.w = w\n",
    "        self.y = y\n",
    "        # random weight initialization\n",
    "        self.loss = loss\n",
    "        self.reg_lambda = reg_lambda\n",
    "        self.loss.compute_cost(self.X, self.w, self.y, self.reg_lambda)\n",
    "    \n",
    "    def jacobian(self):\n",
    "        self.X_gradient, self.w_gradient = self.loss.derivative(self.X, self.w, self.y, self.reg_lambda)\n",
    "    \n",
    "    def weight_update(self, learning_rate):\n",
    "        self.jacobian()\n",
    "        self.X -= learning_rate * self.X_gradient\n",
    "        self.w -= learning_rate * self.w_gradient\n",
    "        \n",
    "    def gradient_descent(self, learning_rate = 0.1, max_iter = 100, threshold = 1e-3, debug = False):\n",
    "        if debug:\n",
    "            print('initial weights {}'.format(self.w))\n",
    "            print('initial X {}'.format(self.X))\n",
    "        i = 0\n",
    "        while(i < max_iter and self.loss.cost > threshold):\n",
    "            if debug:\n",
    "                print('\\n****iter {}'.format(i+1))\n",
    "            self.weight_update(learning_rate)\n",
    "            if debug:\n",
    "                print('w gradient {}'.format(self.w_gradient))\n",
    "                print('weights {}'.format(self.w))\n",
    "                print('X gradient {}'.format(self.X_gradient))\n",
    "                print('X {}'.format(self.X))\n",
    "            self.loss.compute_cost(self.X, self.w, self.y, self.reg_lambda)\n",
    "            if debug:\n",
    "                print('cost {}'.format(self.loss.cost))\n",
    "            i += 1    \n",
    "\n",
    "class LowRankFactorization():\n",
    "    \n",
    "    def __init__(self, learning_rate = 0.001, max_iter = 100, threshold = 0.01, reg_lambda = 0, debug = False, seed = None):\n",
    "        self.learning_rate = learning_rate\n",
    "        self.max_iter = max_iter\n",
    "        self.threshold = threshold\n",
    "        self.reg_lambda = reg_lambda\n",
    "        self.debug = debug\n",
    "        self.seed = seed\n",
    "    \n",
    "    def init_(self):\n",
    "        self.item = np.random.randn(self.rating.shape[0], self.n_dim)/ 2 # shape: (n_items, n_dim)\n",
    "        self.user = (np.random.randn(self.rating.shape[1], self.n_dim)/ 2).T # shape: (n_dim, n_users)\n",
    "    \n",
    "    def fit(self, rating, n_dim):\n",
    "        '''rating is a rating matrix of shape (i,u) where i is number of items, u is number of users\n",
    "        rating should be mean centered\n",
    "        n_dim is the desired dimensionality of the latent feature space'''\n",
    "        self.rating = rating\n",
    "        self.n_dim = n_dim\n",
    "        self.init_()\n",
    "        # gradient descent with Sum of Squared Residuals as loss\n",
    "        ss = MF_GradientDescent(X = self.item, y = self.rating, w = self.user, loss = MF_MSE(), reg_lambda = self.reg_lambda, seed = self.seed)\n",
    "        ss.gradient_descent(learning_rate = self.learning_rate, \n",
    "                            max_iter = self.max_iter, \n",
    "                            threshold = self.threshold, \n",
    "                            debug = self.debug)\n",
    "        self.item = ss.X\n",
    "        self.user = ss.w\n",
    "   \n",
    "    def predict(self, add_mean = 0):\n",
    "        '''returns ratings matrix with filled missing values'''\n",
    "        return np.matmul(self.item, self.user) + add_mean            "
   ]
  },
  {
   "cell_type": "markdown",
   "metadata": {},
   "source": [
    "## Compare with in-built algorithm"
   ]
  },
  {
   "cell_type": "code",
   "execution_count": 255,
   "metadata": {},
   "outputs": [],
   "source": [
    "# Use the famous SVD algorithm.\n",
    "reader = Reader(rating_scale=(1, 5))\n",
    "data = Dataset.load_from_df(df, reader)\n",
    "trainset, testset = train_test_split(data, test_size=0.25)\n",
    "svd = SVD(n_factors = 100)\n",
    "y_pred2 = svd.fit(trainset).test(testset)\n",
    "y_pred2 = pd.DataFrame(y_pred2, columns=['uid', 'iid', 'rui', 'est', 'details']).iloc[:, :-1]"
   ]
  },
  {
   "cell_type": "code",
   "execution_count": 256,
   "metadata": {},
   "outputs": [
    {
     "data": {
      "text/html": [
       "<div>\n",
       "<style scoped>\n",
       "    .dataframe tbody tr th:only-of-type {\n",
       "        vertical-align: middle;\n",
       "    }\n",
       "\n",
       "    .dataframe tbody tr th {\n",
       "        vertical-align: top;\n",
       "    }\n",
       "\n",
       "    .dataframe thead th {\n",
       "        text-align: right;\n",
       "    }\n",
       "</style>\n",
       "<table border=\"1\" class=\"dataframe\">\n",
       "  <thead>\n",
       "    <tr style=\"text-align: right;\">\n",
       "      <th></th>\n",
       "      <th>uid</th>\n",
       "      <th>iid</th>\n",
       "      <th>rui</th>\n",
       "      <th>est</th>\n",
       "    </tr>\n",
       "  </thead>\n",
       "  <tbody>\n",
       "    <tr>\n",
       "      <th>0</th>\n",
       "      <td>120</td>\n",
       "      <td>282</td>\n",
       "      <td>4.0</td>\n",
       "      <td>3.652481</td>\n",
       "    </tr>\n",
       "    <tr>\n",
       "      <th>1</th>\n",
       "      <td>882</td>\n",
       "      <td>291</td>\n",
       "      <td>4.0</td>\n",
       "      <td>3.732709</td>\n",
       "    </tr>\n",
       "    <tr>\n",
       "      <th>2</th>\n",
       "      <td>535</td>\n",
       "      <td>507</td>\n",
       "      <td>5.0</td>\n",
       "      <td>4.039265</td>\n",
       "    </tr>\n",
       "    <tr>\n",
       "      <th>3</th>\n",
       "      <td>697</td>\n",
       "      <td>244</td>\n",
       "      <td>5.0</td>\n",
       "      <td>3.247540</td>\n",
       "    </tr>\n",
       "    <tr>\n",
       "      <th>4</th>\n",
       "      <td>751</td>\n",
       "      <td>385</td>\n",
       "      <td>4.0</td>\n",
       "      <td>3.417123</td>\n",
       "    </tr>\n",
       "  </tbody>\n",
       "</table>\n",
       "</div>"
      ],
      "text/plain": [
       "   uid  iid  rui       est\n",
       "0  120  282  4.0  3.652481\n",
       "1  882  291  4.0  3.732709\n",
       "2  535  507  5.0  4.039265\n",
       "3  697  244  5.0  3.247540\n",
       "4  751  385  4.0  3.417123"
      ]
     },
     "execution_count": 256,
     "metadata": {},
     "output_type": "execute_result"
    }
   ],
   "source": [
    "y_pred2.head()"
   ]
  },
  {
   "cell_type": "code",
   "execution_count": 257,
   "metadata": {},
   "outputs": [
    {
     "data": {
      "text/plain": [
       "25000"
      ]
     },
     "execution_count": 257,
     "metadata": {},
     "output_type": "execute_result"
    }
   ],
   "source": [
    "len(y_pred2)"
   ]
  },
  {
   "cell_type": "code",
   "execution_count": 258,
   "metadata": {},
   "outputs": [
    {
     "name": "stdout",
     "output_type": "stream",
     "text": [
      "mse: 0.9004063693093578\n"
     ]
    }
   ],
   "source": [
    "mse2 = (y_pred2['rui']-y_pred2['est']).apply(lambda x: x**2).dropna().sum() / (y_pred2.shape[0] - y_pred2['rui'].isna().sum())\n",
    "print('mse: {}'.format(mse2))"
   ]
  },
  {
   "cell_type": "markdown",
   "metadata": {},
   "source": [
    "## Apply algorithm"
   ]
  },
  {
   "cell_type": "code",
   "execution_count": 259,
   "metadata": {
    "scrolled": true
   },
   "outputs": [
    {
     "name": "stdout",
     "output_type": "stream",
     "text": [
      "n test ratings: 25000\n"
     ]
    }
   ],
   "source": [
    "# prepare data. Use same test set as built-in algo\n",
    "test_user_item = list(y_pred2['uid'].astype(str) + '-' + y_pred2['iid'].astype(str))\n",
    "df['user_item'] = df['user_id'].astype(str) + '-' + df['item_id'].astype(str)\n",
    "test = df.loc[df.user_item.isin(test_user_item)]\n",
    "train = df.copy()\n",
    "train.iloc[test.index, -1] = np.nan # mask test data with nan\n",
    "print('n test ratings: {}'.format(len(test)))"
   ]
  },
  {
   "cell_type": "code",
   "execution_count": 260,
   "metadata": {},
   "outputs": [
    {
     "data": {
      "text/html": [
       "<div>\n",
       "<style scoped>\n",
       "    .dataframe tbody tr th:only-of-type {\n",
       "        vertical-align: middle;\n",
       "    }\n",
       "\n",
       "    .dataframe tbody tr th {\n",
       "        vertical-align: top;\n",
       "    }\n",
       "\n",
       "    .dataframe thead th {\n",
       "        text-align: right;\n",
       "    }\n",
       "</style>\n",
       "<table border=\"1\" class=\"dataframe\">\n",
       "  <thead>\n",
       "    <tr style=\"text-align: right;\">\n",
       "      <th>user_id</th>\n",
       "      <th>1</th>\n",
       "      <th>2</th>\n",
       "      <th>3</th>\n",
       "      <th>4</th>\n",
       "      <th>5</th>\n",
       "      <th>6</th>\n",
       "      <th>7</th>\n",
       "      <th>8</th>\n",
       "      <th>9</th>\n",
       "      <th>10</th>\n",
       "      <th>...</th>\n",
       "      <th>934</th>\n",
       "      <th>935</th>\n",
       "      <th>936</th>\n",
       "      <th>937</th>\n",
       "      <th>938</th>\n",
       "      <th>939</th>\n",
       "      <th>940</th>\n",
       "      <th>941</th>\n",
       "      <th>942</th>\n",
       "      <th>943</th>\n",
       "    </tr>\n",
       "    <tr>\n",
       "      <th>item_id</th>\n",
       "      <th></th>\n",
       "      <th></th>\n",
       "      <th></th>\n",
       "      <th></th>\n",
       "      <th></th>\n",
       "      <th></th>\n",
       "      <th></th>\n",
       "      <th></th>\n",
       "      <th></th>\n",
       "      <th></th>\n",
       "      <th></th>\n",
       "      <th></th>\n",
       "      <th></th>\n",
       "      <th></th>\n",
       "      <th></th>\n",
       "      <th></th>\n",
       "      <th></th>\n",
       "      <th></th>\n",
       "      <th></th>\n",
       "      <th></th>\n",
       "      <th></th>\n",
       "    </tr>\n",
       "  </thead>\n",
       "  <tbody>\n",
       "    <tr>\n",
       "      <th>1</th>\n",
       "      <td>5.0</td>\n",
       "      <td>4.0</td>\n",
       "      <td>NaN</td>\n",
       "      <td>NaN</td>\n",
       "      <td>4.0</td>\n",
       "      <td>4.0</td>\n",
       "      <td>NaN</td>\n",
       "      <td>NaN</td>\n",
       "      <td>NaN</td>\n",
       "      <td>4.0</td>\n",
       "      <td>...</td>\n",
       "      <td>2.0</td>\n",
       "      <td>3.0</td>\n",
       "      <td>4.0</td>\n",
       "      <td>NaN</td>\n",
       "      <td>4.0</td>\n",
       "      <td>NaN</td>\n",
       "      <td>NaN</td>\n",
       "      <td>5.0</td>\n",
       "      <td>NaN</td>\n",
       "      <td>NaN</td>\n",
       "    </tr>\n",
       "    <tr>\n",
       "      <th>2</th>\n",
       "      <td>3.0</td>\n",
       "      <td>NaN</td>\n",
       "      <td>NaN</td>\n",
       "      <td>NaN</td>\n",
       "      <td>3.0</td>\n",
       "      <td>NaN</td>\n",
       "      <td>NaN</td>\n",
       "      <td>NaN</td>\n",
       "      <td>NaN</td>\n",
       "      <td>NaN</td>\n",
       "      <td>...</td>\n",
       "      <td>4.0</td>\n",
       "      <td>NaN</td>\n",
       "      <td>NaN</td>\n",
       "      <td>NaN</td>\n",
       "      <td>NaN</td>\n",
       "      <td>NaN</td>\n",
       "      <td>NaN</td>\n",
       "      <td>NaN</td>\n",
       "      <td>NaN</td>\n",
       "      <td>5.0</td>\n",
       "    </tr>\n",
       "    <tr>\n",
       "      <th>3</th>\n",
       "      <td>4.0</td>\n",
       "      <td>NaN</td>\n",
       "      <td>NaN</td>\n",
       "      <td>NaN</td>\n",
       "      <td>NaN</td>\n",
       "      <td>NaN</td>\n",
       "      <td>NaN</td>\n",
       "      <td>NaN</td>\n",
       "      <td>NaN</td>\n",
       "      <td>NaN</td>\n",
       "      <td>...</td>\n",
       "      <td>NaN</td>\n",
       "      <td>NaN</td>\n",
       "      <td>4.0</td>\n",
       "      <td>NaN</td>\n",
       "      <td>NaN</td>\n",
       "      <td>NaN</td>\n",
       "      <td>NaN</td>\n",
       "      <td>NaN</td>\n",
       "      <td>NaN</td>\n",
       "      <td>NaN</td>\n",
       "    </tr>\n",
       "    <tr>\n",
       "      <th>4</th>\n",
       "      <td>3.0</td>\n",
       "      <td>NaN</td>\n",
       "      <td>NaN</td>\n",
       "      <td>NaN</td>\n",
       "      <td>NaN</td>\n",
       "      <td>NaN</td>\n",
       "      <td>5.0</td>\n",
       "      <td>NaN</td>\n",
       "      <td>NaN</td>\n",
       "      <td>4.0</td>\n",
       "      <td>...</td>\n",
       "      <td>5.0</td>\n",
       "      <td>NaN</td>\n",
       "      <td>NaN</td>\n",
       "      <td>NaN</td>\n",
       "      <td>NaN</td>\n",
       "      <td>NaN</td>\n",
       "      <td>2.0</td>\n",
       "      <td>NaN</td>\n",
       "      <td>NaN</td>\n",
       "      <td>NaN</td>\n",
       "    </tr>\n",
       "    <tr>\n",
       "      <th>5</th>\n",
       "      <td>3.0</td>\n",
       "      <td>NaN</td>\n",
       "      <td>NaN</td>\n",
       "      <td>NaN</td>\n",
       "      <td>NaN</td>\n",
       "      <td>NaN</td>\n",
       "      <td>NaN</td>\n",
       "      <td>NaN</td>\n",
       "      <td>NaN</td>\n",
       "      <td>NaN</td>\n",
       "      <td>...</td>\n",
       "      <td>NaN</td>\n",
       "      <td>NaN</td>\n",
       "      <td>NaN</td>\n",
       "      <td>NaN</td>\n",
       "      <td>NaN</td>\n",
       "      <td>NaN</td>\n",
       "      <td>NaN</td>\n",
       "      <td>NaN</td>\n",
       "      <td>NaN</td>\n",
       "      <td>NaN</td>\n",
       "    </tr>\n",
       "  </tbody>\n",
       "</table>\n",
       "<p>5 rows × 943 columns</p>\n",
       "</div>"
      ],
      "text/plain": [
       "user_id  1    2    3    4    5    6    7    8    9    10   ...  934  935  936  \\\n",
       "item_id                                                    ...                  \n",
       "1        5.0  4.0  NaN  NaN  4.0  4.0  NaN  NaN  NaN  4.0  ...  2.0  3.0  4.0   \n",
       "2        3.0  NaN  NaN  NaN  3.0  NaN  NaN  NaN  NaN  NaN  ...  4.0  NaN  NaN   \n",
       "3        4.0  NaN  NaN  NaN  NaN  NaN  NaN  NaN  NaN  NaN  ...  NaN  NaN  4.0   \n",
       "4        3.0  NaN  NaN  NaN  NaN  NaN  5.0  NaN  NaN  4.0  ...  5.0  NaN  NaN   \n",
       "5        3.0  NaN  NaN  NaN  NaN  NaN  NaN  NaN  NaN  NaN  ...  NaN  NaN  NaN   \n",
       "\n",
       "user_id  937  938  939  940  941  942  943  \n",
       "item_id                                     \n",
       "1        NaN  4.0  NaN  NaN  5.0  NaN  NaN  \n",
       "2        NaN  NaN  NaN  NaN  NaN  NaN  5.0  \n",
       "3        NaN  NaN  NaN  NaN  NaN  NaN  NaN  \n",
       "4        NaN  NaN  NaN  2.0  NaN  NaN  NaN  \n",
       "5        NaN  NaN  NaN  NaN  NaN  NaN  NaN  \n",
       "\n",
       "[5 rows x 943 columns]"
      ]
     },
     "execution_count": 260,
     "metadata": {},
     "output_type": "execute_result"
    }
   ],
   "source": [
    "X = df.sort_values('user_id').pivot(index = 'item_id', columns = 'user_id', values = 'rating').sort_values('item_id') # original data\n",
    "X_train = train.sort_values('user_id').pivot(index = 'item_id', columns = 'user_id', values = 'rating').sort_values('item_id') # masked data\n",
    "X_train.head()"
   ]
  },
  {
   "cell_type": "code",
   "execution_count": 261,
   "metadata": {},
   "outputs": [
    {
     "data": {
      "text/plain": [
       "(1682, 943)"
      ]
     },
     "execution_count": 261,
     "metadata": {},
     "output_type": "execute_result"
    }
   ],
   "source": [
    "X_array = np.array(X)\n",
    "X_train_array = np.array(X_train)\n",
    "X_array.shape"
   ]
  },
  {
   "cell_type": "code",
   "execution_count": 262,
   "metadata": {},
   "outputs": [],
   "source": [
    "# mean center X\n",
    "X_train_mean = np.nanmean(X_train_array, axis=1).reshape(-1, 1)\n",
    "X_train_array = X_train_array - X_train_mean"
   ]
  },
  {
   "cell_type": "code",
   "execution_count": 264,
   "metadata": {},
   "outputs": [],
   "source": [
    "mf = LowRankFactorization(learning_rate = 0.001, max_iter = 1000, threshold = 0.001, reg_lambda = 0.5, debug = False, seed = 0)\n",
    "mf.fit(rating = X_train_array, n_dim = 100)\n",
    "y_pred = mf.predict(add_mean = X_train_mean)"
   ]
  },
  {
   "cell_type": "code",
   "execution_count": 265,
   "metadata": {},
   "outputs": [
    {
     "data": {
      "text/html": [
       "<div>\n",
       "<style scoped>\n",
       "    .dataframe tbody tr th:only-of-type {\n",
       "        vertical-align: middle;\n",
       "    }\n",
       "\n",
       "    .dataframe tbody tr th {\n",
       "        vertical-align: top;\n",
       "    }\n",
       "\n",
       "    .dataframe thead th {\n",
       "        text-align: right;\n",
       "    }\n",
       "</style>\n",
       "<table border=\"1\" class=\"dataframe\">\n",
       "  <thead>\n",
       "    <tr style=\"text-align: right;\">\n",
       "      <th></th>\n",
       "      <th>user_id</th>\n",
       "      <th>item_id</th>\n",
       "      <th>pred_rating</th>\n",
       "    </tr>\n",
       "  </thead>\n",
       "  <tbody>\n",
       "    <tr>\n",
       "      <th>0</th>\n",
       "      <td>1</td>\n",
       "      <td>1</td>\n",
       "      <td>5.462008</td>\n",
       "    </tr>\n",
       "    <tr>\n",
       "      <th>1</th>\n",
       "      <td>1</td>\n",
       "      <td>2</td>\n",
       "      <td>2.949447</td>\n",
       "    </tr>\n",
       "    <tr>\n",
       "      <th>2</th>\n",
       "      <td>1</td>\n",
       "      <td>3</td>\n",
       "      <td>3.925234</td>\n",
       "    </tr>\n",
       "    <tr>\n",
       "      <th>3</th>\n",
       "      <td>1</td>\n",
       "      <td>4</td>\n",
       "      <td>3.323778</td>\n",
       "    </tr>\n",
       "    <tr>\n",
       "      <th>4</th>\n",
       "      <td>1</td>\n",
       "      <td>5</td>\n",
       "      <td>2.856985</td>\n",
       "    </tr>\n",
       "  </tbody>\n",
       "</table>\n",
       "</div>"
      ],
      "text/plain": [
       "   user_id  item_id  pred_rating\n",
       "0        1        1     5.462008\n",
       "1        1        2     2.949447\n",
       "2        1        3     3.925234\n",
       "3        1        4     3.323778\n",
       "4        1        5     2.856985"
      ]
     },
     "execution_count": 265,
     "metadata": {},
     "output_type": "execute_result"
    }
   ],
   "source": [
    "y_pred_df = pd.DataFrame(y_pred, columns = X_train.columns, index = X_train.index).unstack().reset_index()\n",
    "y_pred_df.columns = ['user_id', 'item_id', 'pred_rating']\n",
    "y_pred_df.head()"
   ]
  },
  {
   "cell_type": "code",
   "execution_count": 266,
   "metadata": {},
   "outputs": [],
   "source": [
    "y_pred_df['user_item'] = y_pred_df['user_id'].astype(str) + '-' + y_pred_df['item_id'].astype(str)\n",
    "test_y_pred = y_pred_df.loc[y_pred_df['user_item'].isin(test_user_item)]"
   ]
  },
  {
   "cell_type": "code",
   "execution_count": 267,
   "metadata": {},
   "outputs": [],
   "source": [
    "test_y_pred = test_y_pred.merge(df[['user_id','item_id','rating']], on = ['user_id','item_id'])"
   ]
  },
  {
   "cell_type": "code",
   "execution_count": 268,
   "metadata": {},
   "outputs": [
    {
     "name": "stdout",
     "output_type": "stream",
     "text": [
      "mse: 0.018051884567929867\n"
     ]
    }
   ],
   "source": [
    "mse = (test_y_pred['rating'] - test_y_pred['pred_rating']).apply(lambda x: x**2).dropna().sum() / (test_y_pred.shape[0] - test_y_pred['rating'].isna().sum())\n",
    "print('mse: {}'.format(mse))"
   ]
  },
  {
   "cell_type": "code",
   "execution_count": 269,
   "metadata": {},
   "outputs": [
    {
     "data": {
      "text/html": [
       "<div>\n",
       "<style scoped>\n",
       "    .dataframe tbody tr th:only-of-type {\n",
       "        vertical-align: middle;\n",
       "    }\n",
       "\n",
       "    .dataframe tbody tr th {\n",
       "        vertical-align: top;\n",
       "    }\n",
       "\n",
       "    .dataframe thead th {\n",
       "        text-align: right;\n",
       "    }\n",
       "</style>\n",
       "<table border=\"1\" class=\"dataframe\">\n",
       "  <thead>\n",
       "    <tr style=\"text-align: right;\">\n",
       "      <th></th>\n",
       "      <th>user_id</th>\n",
       "      <th>item_id</th>\n",
       "      <th>pred_rating</th>\n",
       "      <th>user_item</th>\n",
       "      <th>rating</th>\n",
       "    </tr>\n",
       "  </thead>\n",
       "  <tbody>\n",
       "    <tr>\n",
       "      <th>0</th>\n",
       "      <td>1</td>\n",
       "      <td>1</td>\n",
       "      <td>5.462008</td>\n",
       "      <td>1-1</td>\n",
       "      <td>5</td>\n",
       "    </tr>\n",
       "    <tr>\n",
       "      <th>1</th>\n",
       "      <td>1</td>\n",
       "      <td>2</td>\n",
       "      <td>2.949447</td>\n",
       "      <td>1-2</td>\n",
       "      <td>3</td>\n",
       "    </tr>\n",
       "    <tr>\n",
       "      <th>2</th>\n",
       "      <td>1</td>\n",
       "      <td>4</td>\n",
       "      <td>3.323778</td>\n",
       "      <td>1-4</td>\n",
       "      <td>3</td>\n",
       "    </tr>\n",
       "    <tr>\n",
       "      <th>3</th>\n",
       "      <td>1</td>\n",
       "      <td>6</td>\n",
       "      <td>4.905204</td>\n",
       "      <td>1-6</td>\n",
       "      <td>5</td>\n",
       "    </tr>\n",
       "    <tr>\n",
       "      <th>4</th>\n",
       "      <td>1</td>\n",
       "      <td>17</td>\n",
       "      <td>3.195499</td>\n",
       "      <td>1-17</td>\n",
       "      <td>3</td>\n",
       "    </tr>\n",
       "  </tbody>\n",
       "</table>\n",
       "</div>"
      ],
      "text/plain": [
       "   user_id  item_id  pred_rating user_item  rating\n",
       "0        1        1     5.462008       1-1       5\n",
       "1        1        2     2.949447       1-2       3\n",
       "2        1        4     3.323778       1-4       3\n",
       "3        1        6     4.905204       1-6       5\n",
       "4        1       17     3.195499      1-17       3"
      ]
     },
     "execution_count": 269,
     "metadata": {},
     "output_type": "execute_result"
    }
   ],
   "source": [
    "test_y_pred.head()"
   ]
  },
  {
   "cell_type": "code",
   "execution_count": null,
   "metadata": {},
   "outputs": [],
   "source": []
  }
 ],
 "metadata": {
  "kernelspec": {
   "display_name": "Enrico_env",
   "language": "python",
   "name": "enrico_env"
  },
  "language_info": {
   "codemirror_mode": {
    "name": "ipython",
    "version": 3
   },
   "file_extension": ".py",
   "mimetype": "text/x-python",
   "name": "python",
   "nbconvert_exporter": "python",
   "pygments_lexer": "ipython3",
   "version": "3.6.9"
  }
 },
 "nbformat": 4,
 "nbformat_minor": 2
}
